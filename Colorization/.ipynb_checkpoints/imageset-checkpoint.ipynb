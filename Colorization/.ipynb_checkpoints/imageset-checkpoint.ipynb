{
 "cells": [
  {
   "cell_type": "code",
   "execution_count": 8,
   "metadata": {
    "collapsed": true
   },
   "outputs": [],
   "source": [
    "import flickrapi\n",
    "import urllib.request\n",
    "import matplotlib.pyplot as plt\n",
    "import numpy as np\n",
    "import skimage.io\n",
    "import skimage.transform\n",
    "import requests\n",
    "from io import BytesIO"
   ]
  },
  {
   "cell_type": "code",
   "execution_count": 9,
   "metadata": {
    "collapsed": true
   },
   "outputs": [],
   "source": [
    "#login\n",
    "api_key = u'd41cf9eb9fb96bcb6c143ba0e6793e0d'\n",
    "api_secret = u'140ed60af483e978'\n",
    "flickr = flickrapi.FlickrAPI(api_key, api_secret)"
   ]
  },
  {
   "cell_type": "code",
   "execution_count": 10,
   "metadata": {
    "collapsed": true
   },
   "outputs": [],
   "source": [
    "#search keyword \n",
    "keyword = 'mountain'\n",
    "#save path\n",
    "dir_name = 'mountain5000'\n",
    "traindir_name = 'mountaintest'\n",
    "photos = flickr.walk(text=keyword, tag_mode='all', tags=keyword,extras='url_c',\\\n",
    "                     sort='relevance',per_page=100)"
   ]
  },
  {
   "cell_type": "code",
   "execution_count": 12,
   "metadata": {},
   "outputs": [
    {
     "name": "stdout",
     "output_type": "stream",
     "text": [
      "Making directory 1mountain5000\n",
      "Making directory 1mountaintest\n"
     ]
    }
   ],
   "source": [
    "import os\n",
    "dir_exists = os.path.isdir(dir_name)\n",
    "if not dir_exists:\n",
    "    os.mkdir(dir_name)\n",
    "    print(\"Making directory %s\" % dir_name)\n",
    "else:\n",
    "    print(\"Will store images in directory %s\" % dir_name)\n",
    "    \n",
    "dir_exists = os.path.isdir(traindir_name)\n",
    "if not dir_exists:\n",
    "    os.mkdir(traindir_name)\n",
    "    print(\"Making directory %s\" % traindir_name)\n",
    "else:\n",
    "    print(\"Will store images in directory %s\" % traindir_name)"
   ]
  },
  {
   "cell_type": "code",
   "execution_count": null,
   "metadata": {},
   "outputs": [
    {
     "name": "stdout",
     "output_type": "stream",
     "text": [
      "1mountain5000/mountain_0000.jpg\n",
      "1mountain5000/mountain_0001.jpg\n",
      "1mountain5000/mountain_0002.jpg\n",
      "1mountain5000/mountain_0003.jpg\n",
      "1mountain5000/mountain_0004.jpg\n",
      "1mountain5000/mountain_0005.jpg\n",
      "1mountain5000/mountain_0006.jpg\n",
      "1mountain5000/mountain_0007.jpg\n",
      "1mountain5000/mountain_0008.jpg\n",
      "1mountain5000/mountain_0009.jpg\n",
      "1mountain5000/mountain_0010.jpg\n",
      "1mountain5000/mountain_0011.jpg\n",
      "1mountain5000/mountain_0012.jpg\n",
      "1mountain5000/mountain_0013.jpg\n",
      "1mountain5000/mountain_0014.jpg\n",
      "1mountain5000/mountain_0015.jpg\n",
      "1mountain5000/mountain_0016.jpg\n",
      "1mountain5000/mountain_0017.jpg\n",
      "1mountain5000/mountain_0018.jpg\n",
      "1mountain5000/mountain_0019.jpg\n",
      "1mountain5000/mountain_0020.jpg\n",
      "1mountain5000/mountain_0021.jpg\n",
      "1mountain5000/mountain_0022.jpg\n",
      "1mountain5000/mountain_0023.jpg\n",
      "1mountain5000/mountain_0024.jpg\n",
      "1mountain5000/mountain_0025.jpg\n",
      "1mountain5000/mountain_0026.jpg\n",
      "1mountain5000/mountain_0027.jpg\n",
      "1mountain5000/mountain_0028.jpg\n",
      "1mountain5000/mountain_0029.jpg\n",
      "1mountain5000/mountain_0030.jpg\n",
      "1mountain5000/mountain_0031.jpg\n",
      "1mountain5000/mountain_0032.jpg\n",
      "1mountain5000/mountain_0033.jpg\n",
      "1mountain5000/mountain_0034.jpg\n",
      "1mountain5000/mountain_0035.jpg\n",
      "1mountain5000/mountain_0036.jpg\n",
      "1mountain5000/mountain_0037.jpg\n",
      "1mountain5000/mountain_0038.jpg\n",
      "1mountain5000/mountain_0039.jpg\n",
      "1mountain5000/mountain_0040.jpg\n",
      "1mountain5000/mountain_0041.jpg\n",
      "1mountain5000/mountain_0042.jpg\n",
      "1mountain5000/mountain_0043.jpg\n",
      "1mountain5000/mountain_0044.jpg\n",
      "1mountain5000/mountain_0045.jpg\n",
      "1mountain5000/mountain_0046.jpg\n",
      "1mountain5000/mountain_0047.jpg\n",
      "1mountain5000/mountain_0048.jpg\n",
      "1mountain5000/mountain_0049.jpg\n",
      "1mountain5000/mountain_0050.jpg\n",
      "1mountain5000/mountain_0051.jpg\n",
      "1mountain5000/mountain_0052.jpg\n",
      "1mountain5000/mountain_0053.jpg\n",
      "1mountain5000/mountain_0054.jpg\n",
      "1mountain5000/mountain_0055.jpg\n",
      "1mountain5000/mountain_0056.jpg\n",
      "1mountain5000/mountain_0057.jpg\n"
     ]
    }
   ],
   "source": [
    "import warnings\n",
    "\n",
    "#nimage the training images number\n",
    "nimage = 5000\n",
    "#nt the total number(train + test)\n",
    "nt=5100\n",
    "i = 0\n",
    "j=0\n",
    "nrow = 256\n",
    "ncol = 256\n",
    "for photo in photos:\n",
    "    url=photo.get('url_c')\n",
    "    if not (url is None):\n",
    "        \n",
    "        # Create a file from the URL\n",
    "        # This may only work in Python3\n",
    "        response = requests.get(url)\n",
    "        file = BytesIO(response.content)\n",
    "        \n",
    "        # Read image from file\n",
    "        im = skimage.io.imread(file)\n",
    "        \n",
    "        # Resize images\n",
    "        im1 = skimage.transform.resize(im,(nrow,ncol),mode='constant')\n",
    "                \n",
    "        # Convert to uint8, suppress the warning about the precision loss\n",
    "        with warnings.catch_warnings():\n",
    "            warnings.simplefilter(\"ignore\")\n",
    "            im2 = skimage.img_as_ubyte(im1)\n",
    "    \n",
    "        # Save the image\n",
    "        local_name = '{0:s}/{1:s}_{2:04d}.jpg'.format(dir_name,keyword, j)  \n",
    "        skimage.io.imsave(local_name, im2)      \n",
    "        print(local_name)\n",
    "        i = i + 1        \n",
    "        j = j+ 1\n",
    "    #when finish training data save convert to test save path\n",
    "    if (i == nimage):\n",
    "        dir_name=traindir_name\n",
    "        j = 0\n",
    "    if(i>= nt):\n",
    "        break        "
   ]
  },
  {
   "cell_type": "code",
   "execution_count": null,
   "metadata": {
    "collapsed": true
   },
   "outputs": [],
   "source": []
  }
 ],
 "metadata": {
  "kernelspec": {
   "display_name": "Python 3",
   "language": "python",
   "name": "python3"
  },
  "language_info": {
   "codemirror_mode": {
    "name": "ipython",
    "version": 3
   },
   "file_extension": ".py",
   "mimetype": "text/x-python",
   "name": "python",
   "nbconvert_exporter": "python",
   "pygments_lexer": "ipython3",
   "version": "3.6.1"
  }
 },
 "nbformat": 4,
 "nbformat_minor": 2
}
