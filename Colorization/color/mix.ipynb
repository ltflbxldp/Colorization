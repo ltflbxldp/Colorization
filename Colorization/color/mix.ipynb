{
 "cells": [
  {
   "cell_type": "code",
   "execution_count": 72,
   "metadata": {
    "collapsed": true
   },
   "outputs": [],
   "source": [
    "from skimage.io import imsave\n",
    "import numpy as np\n",
    "from keras.preprocessing.image import ImageDataGenerator, array_to_img, img_to_array, load_img\n",
    "from skimage.color import rgb2lab, lab2rgb, rgb2gray"
   ]
  },
  {
   "cell_type": "code",
   "execution_count": 73,
   "metadata": {
    "collapsed": true
   },
   "outputs": [],
   "source": [
    "num=100\n",
    "real_dir='Mountaintest'\n",
    "\n",
    "col50_dir=\"result50\"\n",
    "col100_dir=\"result100\"\n",
    "col150_dir=\"result150\"\n",
    "col200_dir=\"result200\"\n",
    "keyword=\"Mountain\"\n",
    "h=256\n",
    "w=256*5"
   ]
  },
  {
   "cell_type": "code",
   "execution_count": 78,
   "metadata": {},
   "outputs": [
    {
     "name": "stderr",
     "output_type": "stream",
     "text": [
      "/anaconda/lib/python3.6/site-packages/skimage/util/dtype.py:122: UserWarning: Possible precision loss when converting from float64 to uint8\n",
      "  .format(dtypeobj_in, dtypeobj_out))\n"
     ]
    }
   ],
   "source": [
    "for i in range(0,100):\n",
    "    mix=np.zeros((h, w, 3))\n",
    "    real=img_to_array(load_img(\"../Mountaintest/\"+\"{0:s}_{1:04d}.jpg\".format(keyword,i)))\n",
    "    mix[:,:h,:] = real\n",
    "    tmp=img_to_array(load_img(\"{0:s}/col_{1:d}.png\".format(col50_dir,i)))\n",
    "    mix[:,h:2*h,:]=tmp\n",
    "    tmp=img_to_array(load_img(\"{0:s}/col_{1:d}.png\".format(col100_dir,i)))\n",
    "    mix[:,2*h:3*h,:]=tmp\n",
    "    tmp=img_to_array(load_img(\"{0:s}/col_{1:d}.png\".format(col150_dir,i)))\n",
    "    mix[:,3*h:4*h,:]=tmp\n",
    "    tmp=img_to_array(load_img(\"{0:s}/col_{1:d}.png\".format(col200_dir,i)))\n",
    "    mix[:,4*h:,:]=tmp\n",
    "    imsave(\"mix/mix_\"+str(i)+\".jpg\", (mix/255.0))"
   ]
  },
  {
   "cell_type": "code",
   "execution_count": 79,
   "metadata": {},
   "outputs": [
    {
     "name": "stderr",
     "output_type": "stream",
     "text": [
      "/anaconda/lib/python3.6/site-packages/skimage/util/dtype.py:122: UserWarning: Possible precision loss when converting from float64 to uint8\n",
      "  .format(dtypeobj_in, dtypeobj_out))\n"
     ]
    }
   ],
   "source": [
    "h=256\n",
    "w2=512\n",
    "for i in range(0,100):\n",
    "    mix=np.zeros((h, w2, 3))\n",
    "    real=img_to_array(load_img(\"../Mountaintest/\"+\"{0:s}_{1:04d}.jpg\".format(keyword,i)))\n",
    "    mix[:,:h,:] = real\n",
    "    tmp=img_to_array(load_img(\"{0:s}/col_{1:d}.png\".format(col200_dir,i)))\n",
    "    mix[:,h:,:]=tmp\n",
    "    imsave(\"mix2/mix_\"+str(i)+\".jpg\", (mix/255.0))"
   ]
  },
  {
   "cell_type": "code",
   "execution_count": null,
   "metadata": {
    "collapsed": true
   },
   "outputs": [],
   "source": []
  }
 ],
 "metadata": {
  "kernelspec": {
   "display_name": "Python 3",
   "language": "python",
   "name": "python3"
  },
  "language_info": {
   "codemirror_mode": {
    "name": "ipython",
    "version": 3
   },
   "file_extension": ".py",
   "mimetype": "text/x-python",
   "name": "python",
   "nbconvert_exporter": "python",
   "pygments_lexer": "ipython3",
   "version": "3.6.3"
  }
 },
 "nbformat": 4,
 "nbformat_minor": 2
}
